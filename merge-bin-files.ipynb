{
 "cells": [
  {
   "cell_type": "code",
   "execution_count": 4,
   "metadata": {
    "collapsed": false
   },
   "outputs": [
    {
     "name": "stdout",
     "output_type": "stream",
     "text": [
      "array('f', [39.407508850097656, 89.11781311035156, -2144016000.0])\n",
      "array('f', [58.293861389160156, 103.28864288330078, 210470400.0])\n"
     ]
    }
   ],
   "source": [
    "import array, os\n",
    "\n",
    "# Convert GeoJSON file to bin file in with x,y in Web Mercator\n",
    "files = ['data/national.bin', 'data/create-after.bin']\n",
    "\n",
    "data = []\n",
    "for file in files:\n",
    "    statinfo = os.stat(file)\n",
    "    n = statinfo.st_size / 4 # divide by four bytes\n",
    "    f = open(file, 'rb')\n",
    "    a = array.array('f')\n",
    "    a.fromfile(f, n)\n",
    "    print a[:3]\n",
    "    data += a\n",
    "    f.close()\n",
    "array.array('f', data).tofile(open('data/merged.bin', 'wb'))\n"
   ]
  },
  {
   "cell_type": "code",
   "execution_count": null,
   "metadata": {
    "collapsed": true
   },
   "outputs": [],
   "source": []
  }
 ],
 "metadata": {
  "kernelspec": {
   "display_name": "Python 2",
   "language": "python",
   "name": "python2"
  },
  "language_info": {
   "codemirror_mode": {
    "name": "ipython",
    "version": 2
   },
   "file_extension": ".py",
   "mimetype": "text/x-python",
   "name": "python",
   "nbconvert_exporter": "python",
   "pygments_lexer": "ipython2",
   "version": "2.7.11"
  }
 },
 "nbformat": 4,
 "nbformat_minor": 0
}
