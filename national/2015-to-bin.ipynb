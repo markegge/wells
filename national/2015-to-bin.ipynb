{
 "cells": [
  {
   "cell_type": "code",
   "execution_count": 1,
   "metadata": {
    "collapsed": false
   },
   "outputs": [
    {
     "name": "stdout",
     "output_type": "stream",
     "text": [
      "item: 0: State\n",
      "item: 1: Well_Name\n",
      "item: 2: Operator\n",
      "item: 3: Type\n",
      "item: 4: Status\n",
      "item: 5: Slant\n",
      "item: 6: Spud Date\n",
      "item: 7: Longitude\n",
      "item: 8: Latitude\n",
      "item: 9: API\n",
      "item: 0: State\n",
      "item: 1: Well_Name\n",
      "item: 2: Operator\n",
      "item: 3: Type\n",
      "item: 4: Status\n",
      "item: 5: Slant\n",
      "item: 6: Spud Date\n",
      "item: 7: Longitude\n",
      "item: 8: Latitude\n",
      "item: 9: API\n",
      "item: 0: State\n",
      "item: 1: Well_Name\n",
      "item: 2: Operator\n",
      "item: 3: Type\n",
      "item: 4: Status\n",
      "item: 5: Slant\n",
      "item: 6: Spud Date\n",
      "item: 7: Longitude\n",
      "item: 8: Latitude\n",
      "item: 9: API\n"
     ]
    }
   ],
   "source": [
    "# Convert csv to bin\n",
    "import array, csv, datetime, json, math, random\n",
    "\n",
    "def LonLatToPixelXY(lonlat):\n",
    "    (lon, lat) = lonlat\n",
    "    x = (lon + 180.0) * 256.0 / 360.0\n",
    "    y = 128.0 - math.log(math.tan((lat + 90.0) * math.pi / 360.0)) * 128.0 / math.pi\n",
    "    return [x, y]\n",
    "\n",
    "def YearMonthDayToEpoch(year, month, day):\n",
    "    t = (datetime.datetime(int(year), int(month), int(day)) - datetime.datetime(1970, 1, 1)).total_seconds()\n",
    "    return t\n",
    "\n",
    "def LonLatToECEF(lon,lat, elv = 0):\n",
    "    lat = lat * (math.pi/180)\n",
    "    lon = lon * (math.pi/180)\n",
    "    radius = (6.371e6 + elv) / 6.371e6\n",
    "    x = -radius * math.cos(lat) * math.sin(lon)\n",
    "    y = radius * math.sin(lat)\n",
    "    z = -radius * math.cos(lat)*math.cos(lon)\n",
    "    return [x,y,z]\n",
    "\n",
    "files = ['capture\\US_OG_Wells_2015\\wells1.csv', 'capture\\US_OG_Wells_2015\\wells2.csv', 'capture\\US_OG_Wells_2015\\wells3.csv']\n",
    "# Convert GeoJSON file to bin file in with x,y in Web Mercator\n",
    "data = []\n",
    "for file in files:\n",
    "    f = open(file)\n",
    "    reader = csv.reader(f)\n",
    "    headers = reader.next()\n",
    "    for index, value in enumerate(headers):\n",
    "        print \"item: \" + str(index) + \": \" + str(value)\n",
    "    lines = list(reader)[1:] # skip headers line\n",
    "    \n",
    "    for line in lines:\n",
    "        date, api, lat, lon = str(line[6]), str(line[9]), float(line[8]), float(line[7]) # [line[i] for i in [2,3,4]]\n",
    "        # print api, lat, lon\n",
    "        x,y = LonLatToPixelXY([lon,lat])\n",
    "        try:\n",
    "            date = datetime.datetime.strptime(date, '%m/%d/%Y')\n",
    "        except ValueError:\n",
    "            date = datetime.datetime(1970, 1, 1)\n",
    "        #year = datetime.datetime.strptime(year, '%m/%d/%Y')\n",
    "        #month = random.randrange(1,12,1) # bogus month\n",
    "        day = random.randrange(1,28,1) # bogus day\n",
    "        epochtime = YearMonthDayToEpoch(date.year, date.month, day)\n",
    "        #print [x,y,epochtime]\n",
    "        data += [x,y,epochtime]\n",
    "    f.close()\n",
    "\n",
    "array.array('f', data).tofile(open('data/national.bin', 'wb'))\n"
   ]
  },
  {
   "cell_type": "code",
   "execution_count": null,
   "metadata": {
    "collapsed": true
   },
   "outputs": [],
   "source": []
  }
 ],
 "metadata": {
  "kernelspec": {
   "display_name": "Python 2",
   "language": "python",
   "name": "python2"
  },
  "language_info": {
   "codemirror_mode": {
    "name": "ipython",
    "version": 2
   },
   "file_extension": ".py",
   "mimetype": "text/x-python",
   "name": "python",
   "nbconvert_exporter": "python",
   "pygments_lexer": "ipython2",
   "version": "2.7.11"
  }
 },
 "nbformat": 4,
 "nbformat_minor": 0
}
